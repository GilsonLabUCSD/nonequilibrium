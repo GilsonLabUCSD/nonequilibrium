{
 "cells": [
  {
   "cell_type": "code",
   "execution_count": 3,
   "metadata": {
    "ExecuteTime": {
     "end_time": "2018-02-20T22:17:09.161195Z",
     "start_time": "2018-02-20T22:17:09.053909Z"
    }
   },
   "outputs": [],
   "source": [
    "import os\n",
    "import numpy as np\n",
    "np.random.seed(43)"
   ]
  },
  {
   "cell_type": "code",
   "execution_count": 4,
   "metadata": {
    "ExecuteTime": {
     "end_time": "2018-02-20T22:17:12.147524Z",
     "start_time": "2018-02-20T22:17:12.142977Z"
    }
   },
   "outputs": [],
   "source": [
    "setup_string = '''\n",
    "# General setup\n",
    "open morph-open-closed/open-closed.pdb\n",
    "center\n",
    "turn y 60\n",
    "\n",
    "# Open bound structure get position of the ligand, missing in the morph\n",
    "open 1ake\n",
    "delete #1:.B\n",
    "addh spec #1&protein hbond false\n",
    "mmaker #0.1 #1\n",
    "\n",
    "# Window appearance\n",
    "windowsize 800 600\n",
    "lighting reflectivity 0\n",
    "set bg_color white\n",
    "set silhouette\n",
    "set silhouette_width 1.5\n",
    "\n",
    "# Model appearance\n",
    "color grey\n",
    "\n",
    "# Add caption\n",
    "2dlabel create title text \"Binding and release of substrate leads to directional motion\" xpos 0.1 ypos 0.92 color black\n",
    "\n",
    "# Play movie sequence\n",
    "2dlabel change title visibility show\n",
    "\n",
    "# Hide everything\n",
    "~ribbon; ~display\n",
    "# Except ligand\n",
    "display #1:AP5; color red #1:AP5; color byhet #1:AP5\n",
    "'''"
   ]
  },
  {
   "cell_type": "code",
   "execution_count": 5,
   "metadata": {
    "ExecuteTime": {
     "end_time": "2018-02-20T22:17:12.696683Z",
     "start_time": "2018-02-20T22:17:12.685672Z"
    }
   },
   "outputs": [],
   "source": [
    "def pause_and_fade(pause_length, total_frames, file):\n",
    "    file.write('# Fade out...\\n')\n",
    "    for pause in np.arange(pause_length):\n",
    "        total_frames += 1\n",
    "        transparency_increment = 100. / float(pause_length)\n",
    "        file.write('transparency {} #1:AP5\\n'.format((pause + 1)* transparency_increment)\n",
    "                  )\n",
    "        file.write('copy file morph-open-closed/open-closed-{:03.0f}.png\\n'.format(total_frames)\n",
    "        )\n",
    "    file.write('~display #1:AP5\\n')\n",
    "    return total_frames"
   ]
  },
  {
   "cell_type": "code",
   "execution_count": 6,
   "metadata": {
    "ExecuteTime": {
     "end_time": "2018-02-20T22:17:12.956041Z",
     "start_time": "2018-02-20T22:17:12.934748Z"
    }
   },
   "outputs": [],
   "source": [
    "def pause_and_fade_in(pause_length, total_frames, file):\n",
    "    file.write('# Fade in...\\n')\n",
    "    file.write('display #1:AP5\\n')\n",
    "    for pause in np.arange(pause_length):\n",
    "        total_frames += 1\n",
    "        transparency_increment = 100. / float(pause_length)\n",
    "        file.write('transparency {} #1:AP5\\n'.format(100 - ((pause + 1)* transparency_increment))\n",
    "        )\n",
    "        file.write('copy file morph-open-closed/open-closed-{:03.0f}.png\\n'.format(total_frames)\n",
    "        )\n",
    "\n",
    "    return total_frames\n",
    "\n",
    "\n",
    "def pause(pause_length, total_frames, file):\n",
    "    for pause in np.arange(pause_length):\n",
    "        total_frames += 1\n",
    "        file.write('copy file morph-open-closed/open-closed-{:03.0f}.png\\n'.format(total_frames)\n",
    "        )\n",
    "    return total_frames"
   ]
  },
  {
   "cell_type": "code",
   "execution_count": 7,
   "metadata": {
    "ExecuteTime": {
     "end_time": "2018-02-20T22:17:13.125160Z",
     "start_time": "2018-02-20T22:17:13.119036Z"
    }
   },
   "outputs": [],
   "source": [
    "def add_bump(positive):\n",
    "    sigma = 2\n",
    "    if positive:\n",
    "        mu = 6.0\n",
    "    else:\n",
    "        mu = -6.0\n",
    "    rotation = sigma * np.random.randn(1) + mu\n",
    "    return rotation[0]"
   ]
  },
  {
   "cell_type": "code",
   "execution_count": 26,
   "metadata": {
    "ExecuteTime": {
     "end_time": "2018-02-20T22:26:37.575484Z",
     "start_time": "2018-02-20T22:26:37.503808Z"
    }
   },
   "outputs": [],
   "source": [
    "def rotate_forward(models, residues, positives, \n",
    "                   list_of_previous_positions, file, total_frames):\n",
    "    #\n",
    "    positions = np.empty(( len(residues), len(models) + 1))\n",
    "    positions[:, 0] = list_of_previous_positions\n",
    "    print('Setting previous positions...')\n",
    "    print('{}'.format(list_of_previous_positions[0]))\n",
    "    #\n",
    "    for (model_index, model) in enumerate(models, 1):\n",
    "        file.write('~show #0; ~ribbon #0\\n')\n",
    "        for (residue_index, residue) in enumerate(residues): \n",
    "            # Now keep incrementing this!\n",
    "            positions[residue_index, model_index] = \\\n",
    "                            positions[residue_index, model_index - 1] + \\\n",
    "                            add_bump(positives[residue_index])\n",
    "\n",
    "            \n",
    "            file.write('rotation 2 #0.{}:{}@CA,CB\\n'.format(model + 1, residue))\n",
    "            colors = ['blue', 'green', 'purple', 'orange', 'yellow']\n",
    "            file.write('rotation 2 {} 1; wait 1\\n'.format(positions[residue_index, model_index]))\n",
    "            file.write('display #0.{}:{};'.format(model + 1, residue))\n",
    "            file.write('color {} #0.{}:{};'.format(colors[residue_index], model + 1, residue))\n",
    "            file.write('color byhet #0.{}:{}\\n'.format(model + 1, residue))\n",
    "            file.write('~rotation 2\\n')\n",
    "\n",
    "            #\n",
    "            print('Frame {} → {}'.format(model + 1, positions[residue_index, model_index]))\n",
    "            additional_rotation = positions[residue_index, model_index] - \\\n",
    "                                  list_of_previous_positions[residue_index, -model_index]\n",
    "            print('Frame {} → {}, which is a rotation of additional {}'.format(model + 1, \n",
    "                                                                               positions[residue_index, model_index],\n",
    "                                                                               additional_rotation))            \n",
    "\n",
    "            #\n",
    "            \n",
    "        file.write('ribbon #0.{}\\n'.format(model + 1))\n",
    "        total_frames += 1\n",
    "        file.write('copy file morph-open-closed/open-closed-{:03.0f}.png \\n\\n'.format(total_frames)\n",
    "        )\n",
    "\n",
    "    return positions, total_frames"
   ]
  },
  {
   "cell_type": "code",
   "execution_count": 27,
   "metadata": {
    "ExecuteTime": {
     "end_time": "2018-02-20T22:26:38.098573Z",
     "start_time": "2018-02-20T22:26:38.029470Z"
    }
   },
   "outputs": [],
   "source": [
    "def rotate_backward(models, residues, positives, file, forward_rotations, total_frames):\n",
    "    #\n",
    "    positions = np.empty(( len(residues), len(models) + 1))\n",
    "    positions[:, 0] = forward_rotations[:, -1]\n",
    "    #\n",
    "    # Now keep incrementing this!\n",
    "    #\n",
    "    for (model_index, model) in enumerate(models[::-1], 1):\n",
    "        file.write('~show #0; ~ribbon #0\\n')\n",
    "        for (residue_index, residue) in enumerate(residues):\n",
    "            if model_index == 1:\n",
    "                print(\"This angle's last position is... {}\".format(positions[residue_index, 0]))\n",
    "            \n",
    "            positions[residue_index, model_index] = \\\n",
    "                            positions[residue_index, model_index - 1] + \\\n",
    "                            add_bump(positives[residue_index])\n",
    "\n",
    "            #\n",
    "            additional_rotation = positions[residue_index, model_index] - \\\n",
    "                                  forward_rotations[residue_index, -model_index]\n",
    "            print('Frame {} → {}, which is a rotation of additional {}'.format(model + 1, \n",
    "                                                                               positions[residue_index, model_index],\n",
    "                                                                               additional_rotation))            \n",
    "            \n",
    "            file.write('rotation 2 #0.{}:{}@CA,CB\\n'.format(model + 1, residue))\n",
    "            colors = ['blue', 'green', 'purple', 'orange', 'yellow']\n",
    "            file.write('rotation 2 {} 1; wait 1\\n'.format(additional_rotation))\n",
    "            file.write('display #0.{}:{};'.format(model + 1, residue))\n",
    "            file.write('color {} #0.{}:{};'.format(colors[residue_index], model + 1, residue))\n",
    "            file.write('color byhet #0.{}:{}\\n'.format(model + 1, residue))\n",
    "            file.write('~rotation 2\\n')\n",
    "\n",
    "\n",
    "        file.write('ribbon #0.{}\\n'.format(model + 1))\n",
    "        total_frames += 1\n",
    "        file.write('copy file morph-open-closed/open-closed-{:03.0f}.png \\n\\n'.format(total_frames)\n",
    "            )\n",
    "    \n",
    "    return positions, total_frames"
   ]
  },
  {
   "cell_type": "code",
   "execution_count": 28,
   "metadata": {
    "ExecuteTime": {
     "end_time": "2018-02-20T22:26:38.635916Z",
     "start_time": "2018-02-20T22:26:38.573925Z"
    },
    "scrolled": false
   },
   "outputs": [
    {
     "name": "stdout",
     "output_type": "stream",
     "text": [
      "Setting previous positions...\n",
      "0\n",
      "Frame 1 → 7.732637341695758\n"
     ]
    },
    {
     "ename": "TypeError",
     "evalue": "list indices must be integers or slices, not tuple",
     "output_type": "error",
     "traceback": [
      "\u001b[0;31m---------------------------------------------------------------------------\u001b[0m",
      "\u001b[0;31mTypeError\u001b[0m                                 Traceback (most recent call last)",
      "\u001b[0;32m<ipython-input-28-52fa91fb5d3a>\u001b[0m in \u001b[0;36m<module>\u001b[0;34m()\u001b[0m\n\u001b[1;32m     16\u001b[0m         \u001b[0mlist_of_previous_positions\u001b[0m\u001b[0;34m=\u001b[0m\u001b[0;34m[\u001b[0m\u001b[0;36m0\u001b[0m\u001b[0;34m]\u001b[0m \u001b[0;34m*\u001b[0m \u001b[0mlen\u001b[0m\u001b[0;34m(\u001b[0m\u001b[0mresidues\u001b[0m\u001b[0;34m)\u001b[0m\u001b[0;34m,\u001b[0m\u001b[0;34m\u001b[0m\u001b[0m\n\u001b[1;32m     17\u001b[0m         \u001b[0mfile\u001b[0m\u001b[0;34m=\u001b[0m\u001b[0mfile\u001b[0m\u001b[0;34m,\u001b[0m\u001b[0;34m\u001b[0m\u001b[0m\n\u001b[0;32m---> 18\u001b[0;31m         total_frames=total_frames)\n\u001b[0m\u001b[1;32m     19\u001b[0m \u001b[0;34m\u001b[0m\u001b[0m\n\u001b[1;32m     20\u001b[0m     \u001b[0mprint\u001b[0m\u001b[0;34m(\u001b[0m\u001b[0mforward_rotations\u001b[0m\u001b[0;34m)\u001b[0m\u001b[0;34m\u001b[0m\u001b[0m\n",
      "\u001b[0;32m<ipython-input-26-5de36e54f8b9>\u001b[0m in \u001b[0;36mrotate_forward\u001b[0;34m(models, residues, positives, list_of_previous_positions, file, total_frames)\u001b[0m\n\u001b[1;32m     24\u001b[0m             \u001b[0;31m#\u001b[0m\u001b[0;34m\u001b[0m\u001b[0;34m\u001b[0m\u001b[0m\n\u001b[1;32m     25\u001b[0m             \u001b[0mprint\u001b[0m\u001b[0;34m(\u001b[0m\u001b[0;34m'Frame {} → {}'\u001b[0m\u001b[0;34m.\u001b[0m\u001b[0mformat\u001b[0m\u001b[0;34m(\u001b[0m\u001b[0mmodel\u001b[0m \u001b[0;34m+\u001b[0m \u001b[0;36m1\u001b[0m\u001b[0;34m,\u001b[0m \u001b[0mpositions\u001b[0m\u001b[0;34m[\u001b[0m\u001b[0mresidue_index\u001b[0m\u001b[0;34m,\u001b[0m \u001b[0mmodel_index\u001b[0m\u001b[0;34m]\u001b[0m\u001b[0;34m)\u001b[0m\u001b[0;34m)\u001b[0m\u001b[0;34m\u001b[0m\u001b[0m\n\u001b[0;32m---> 26\u001b[0;31m             \u001b[0madditional_rotation\u001b[0m \u001b[0;34m=\u001b[0m \u001b[0mpositions\u001b[0m\u001b[0;34m[\u001b[0m\u001b[0mresidue_index\u001b[0m\u001b[0;34m,\u001b[0m \u001b[0mmodel_index\u001b[0m\u001b[0;34m]\u001b[0m \u001b[0;34m-\u001b[0m                                   \u001b[0mlist_of_previous_positions\u001b[0m\u001b[0;34m[\u001b[0m\u001b[0mresidue_index\u001b[0m\u001b[0;34m,\u001b[0m \u001b[0;34m-\u001b[0m\u001b[0mmodel_index\u001b[0m\u001b[0;34m]\u001b[0m\u001b[0;34m\u001b[0m\u001b[0m\n\u001b[0m\u001b[1;32m     27\u001b[0m             print('Frame {} → {}, which is a rotation of additional {}'.format(model + 1, \n\u001b[1;32m     28\u001b[0m                                                                                \u001b[0mpositions\u001b[0m\u001b[0;34m[\u001b[0m\u001b[0mresidue_index\u001b[0m\u001b[0;34m,\u001b[0m \u001b[0mmodel_index\u001b[0m\u001b[0;34m]\u001b[0m\u001b[0;34m,\u001b[0m\u001b[0;34m\u001b[0m\u001b[0m\n",
      "\u001b[0;31mTypeError\u001b[0m: list indices must be integers or slices, not tuple"
     ]
    }
   ],
   "source": [
    "# residues = [20, 50, 120, 141, 200]\n",
    "residues = [20]\n",
    "positives = [True, False, False, True, True]\n",
    "pause_length = 20\n",
    "morphs = np.arange(30)\n",
    "total_frames = 0\n",
    "\n",
    "\n",
    "with open('morph_setup.cmd', 'w') as file:\n",
    "    file.write(setup_string)\n",
    "\n",
    "    forward_rotations, total_frames = rotate_forward(\n",
    "        models=morphs,\n",
    "        residues=residues,\n",
    "        positives=positives,\n",
    "        list_of_previous_positions=[0] * len(residues),\n",
    "        file=file, \n",
    "        total_frames=total_frames)\n",
    "    \n",
    "    print(forward_rotations)\n",
    "    \n",
    "    total_frames = pause_and_fade(5, total_frames, file)\n",
    "    \n",
    "    backward_rotations, total_frames = rotate_backward(\n",
    "        models=morphs, \n",
    "        residues=residues, \n",
    "        positives=positives, \n",
    "        file=file, \n",
    "        forward_rotations=forward_rotations, \n",
    "        total_frames=total_frames)\n",
    "    \n",
    "    total_frames = pause_and_fade_in(5, total_frames, file)\n",
    "    \n",
    "    forward_rotations, total_frames = rotate_forward(\n",
    "        models=morphs,\n",
    "        residues=residues,\n",
    "        positives=positives, \n",
    "        list_of_previous_positions=backward_rotations[:, -1],\n",
    "        file=file, \n",
    "        total_frames=total_frames)\n",
    "\n",
    "#     backward_rotations, total_frames = rotate_backward(\n",
    "#         morphs, \n",
    "#         residues, \n",
    "#         positives, \n",
    "#         file, \n",
    "#         backward_rotations, \n",
    "#         total_frames)\n",
    "\n",
    "#     total_frames = pause(5, total_frames, file)"
   ]
  },
  {
   "cell_type": "markdown",
   "metadata": {},
   "source": [
    "```\n",
    "ffmpeg -r 10 -i open-closed-%03d.png -y -vf format=yuv420p morph.mp4\n",
    "```"
   ]
  },
  {
   "cell_type": "markdown",
   "metadata": {},
   "source": [
    "I probably need to create a function that goes forward, just starting with an initial value -- like I did for the backwards process, but without stepping through the frames backwards. In fact, I should just make this the general going forwards function and pass an array of zeros for the first trip forwards."
   ]
  },
  {
   "cell_type": "code",
   "execution_count": null,
   "metadata": {},
   "outputs": [],
   "source": []
  }
 ],
 "metadata": {
  "anaconda-cloud": {},
  "kernelspec": {
   "display_name": "Python [default]",
   "language": "python",
   "name": "python3"
  },
  "language_info": {
   "codemirror_mode": {
    "name": "ipython",
    "version": 3
   },
   "file_extension": ".py",
   "mimetype": "text/x-python",
   "name": "python",
   "nbconvert_exporter": "python",
   "pygments_lexer": "ipython3",
   "version": "3.6.4"
  }
 },
 "nbformat": 4,
 "nbformat_minor": 2
}
