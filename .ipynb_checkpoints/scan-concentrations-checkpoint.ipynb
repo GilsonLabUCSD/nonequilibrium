{
 "cells": [
  {
   "cell_type": "code",
   "execution_count": 1,
   "metadata": {
    "collapsed": true
   },
   "outputs": [],
   "source": [
    "import glob\n",
    "import os as os\n",
    "import re as re\n",
    "import pandas as pd"
   ]
  },
  {
   "cell_type": "code",
   "execution_count": 2,
   "metadata": {
    "collapsed": true
   },
   "outputs": [],
   "source": [
    "from simulation import *\n",
    "from summarize import *\n",
    "from aesthetics import *\n",
    "from plot import *"
   ]
  },
  {
   "cell_type": "code",
   "execution_count": 3,
   "metadata": {
    "collapsed": true
   },
   "outputs": [],
   "source": [
    "%reload_ext autoreload\n",
    "%autoreload 2\n",
    "%matplotlib inline\n",
    "mpl.rc('text', usetex=True)\n",
    "cmap = sns.color_palette(\"Paired\", 10)\n",
    "prepare_plot()"
   ]
  },
  {
   "cell_type": "markdown",
   "metadata": {},
   "source": [
    "# Scan concentrations"
   ]
  },
  {
   "cell_type": "code",
   "execution_count": 10,
   "metadata": {
    "collapsed": true
   },
   "outputs": [],
   "source": [
    "calculation = False"
   ]
  },
  {
   "cell_type": "markdown",
   "metadata": {},
   "source": [
    "The general strategy is:\n",
    "\n",
    "1. Specify the directory\n",
    "1. Get a list of files and exclude a few that aren't rotatable\n",
    "1. For each concentration, get the directional flux $J$, the intersurface flux, the reciprocating flux $J_R$, the maximum power $P_\\text{max}$, and the load at the maximum power $\\tau_\\text{stall}/2$\n",
    "1. Add these to a growing data frame\n",
    "1. Save the pickle."
   ]
  },
  {
   "cell_type": "markdown",
   "metadata": {},
   "source": [
    "## PKA"
   ]
  },
  {
   "cell_type": "code",
   "execution_count": 11,
   "metadata": {
    "collapsed": true
   },
   "outputs": [],
   "source": [
    "pka_dir = './md-data/pka-md-data/'\n",
    "pka_unbound_files = sorted(glob.glob(pka_dir + 'apo/' + '*'))\n",
    "names = []\n",
    "for file in range(len(pka_unbound_files)):\n",
    "    name = os.path.splitext(os.path.basename(pka_unbound_files[file]))[0]\n",
    "    name = re.search('^[^_]*', name).group(0)        \n",
    "    if re.search('omega*', name):\n",
    "        continue\n",
    "    if re.search('chi3ASN*', name):\n",
    "        continue\n",
    "    if re.search('chi5LYS*', name):\n",
    "        continue\n",
    "    # This one is missing in the PKA data set.\n",
    "    if re.search('chi1CYM185', name):\n",
    "        continue\n",
    "    names.append(name)"
   ]
  },
  {
   "cell_type": "code",
   "execution_count": 12,
   "metadata": {
    "collapsed": false
   },
   "outputs": [],
   "source": [
    "df = pd.DataFrame()\n",
    "if calculation:\n",
    "    for concentration in np.arange(-6, 0, 0.1):\n",
    "        for name in names:\n",
    "            directional_flux, intersurface_flux, driven_flux = summarize_fluxes(name, concentration=10**concentration,\n",
    "                                                                               data_source='pka_md_data') \n",
    "            if directional_flux < 0:\n",
    "                negative=True\n",
    "            else:\n",
    "                negative=False\n",
    "            max_power, max_load = summarize_power_and_load(name, concentration=10**concentration, negative=negative, \n",
    "                                                           debug=False, data_source='pka_md_data')\n",
    "            df = df.append(pd.DataFrame({'Concentration': concentration,\n",
    "                                    'Directional flux': directional_flux,\n",
    "                                    'Intersurface flux': intersurface_flux,\n",
    "                                    'Driven flux': driven_flux,\n",
    "                                    'File': name,\n",
    "                                    'Max power': max_power,\n",
    "                                    'Max load' : max_load,\n",
    "                                    'ResID': re.match('.*?([0-9]+)$', name).group(1),\n",
    "                                    }, index=[0]), ignore_index=True)\n",
    "\n",
    "    df.to_pickle('pka-concentration-scan.pickle')"
   ]
  },
  {
   "cell_type": "code",
   "execution_count": null,
   "metadata": {
    "collapsed": true
   },
   "outputs": [],
   "source": []
  }
 ],
 "metadata": {
  "kernelspec": {
   "display_name": "Python 3",
   "language": "python",
   "name": "python3"
  },
  "language_info": {
   "codemirror_mode": {
    "name": "ipython",
    "version": 3
   },
   "file_extension": ".py",
   "mimetype": "text/x-python",
   "name": "python",
   "nbconvert_exporter": "python",
   "pygments_lexer": "ipython3",
   "version": "3.6.0"
  }
 },
 "nbformat": 4,
 "nbformat_minor": 2
}
